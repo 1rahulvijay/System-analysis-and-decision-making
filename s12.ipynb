{
 "cells": [
  {
   "cell_type": "markdown",
   "metadata": {},
   "source": [
    "1. Introduction to the linear model in which i am performing simple linear regression which will going to predict box office movie gross revenue and plot best fit line."
   ]
  },
  {
   "cell_type": "code",
   "execution_count": 80,
   "metadata": {},
   "outputs": [],
   "source": [
    "# ================= Importing all required libaries for our linear model\n",
    "\n",
    "%matplotlib inline\n",
    "import pandas as pd\n",
    "from pandas import DataFrame\n",
    "import matplotlib.pyplot as plt\n",
    "from matplotlib import style\n",
    "style.use('ggplot')\n",
    "from sklearn.linear_model import LinearRegression"
   ]
  },
  {
   "cell_type": "markdown",
   "metadata": {},
   "source": [
    "2. Reading Dataset through pandas module and storing it in variable (data) to access it quickly."
   ]
  },
  {
   "cell_type": "code",
   "execution_count": 81,
   "metadata": {},
   "outputs": [
    {
     "data": {
      "text/html": [
       "<div>\n",
       "<style scoped>\n",
       "    .dataframe tbody tr th:only-of-type {\n",
       "        vertical-align: middle;\n",
       "    }\n",
       "\n",
       "    .dataframe tbody tr th {\n",
       "        vertical-align: top;\n",
       "    }\n",
       "\n",
       "    .dataframe thead th {\n",
       "        text-align: right;\n",
       "    }\n",
       "</style>\n",
       "<table border=\"1\" class=\"dataframe\">\n",
       "  <thead>\n",
       "    <tr style=\"text-align: right;\">\n",
       "      <th></th>\n",
       "      <th>Production_Budget_In_USD</th>\n",
       "      <th>Worldwide_Gross_In_USD</th>\n",
       "    </tr>\n",
       "  </thead>\n",
       "  <tbody>\n",
       "    <tr>\n",
       "      <th>0</th>\n",
       "      <td>400000000.0</td>\n",
       "      <td>2.797801e+09</td>\n",
       "    </tr>\n",
       "    <tr>\n",
       "      <th>1</th>\n",
       "      <td>379000000.0</td>\n",
       "      <td>1.045714e+09</td>\n",
       "    </tr>\n",
       "    <tr>\n",
       "      <th>2</th>\n",
       "      <td>365000000.0</td>\n",
       "      <td>1.395317e+09</td>\n",
       "    </tr>\n",
       "    <tr>\n",
       "      <th>3</th>\n",
       "      <td>306000000.0</td>\n",
       "      <td>2.065478e+09</td>\n",
       "    </tr>\n",
       "    <tr>\n",
       "      <th>4</th>\n",
       "      <td>300000000.0</td>\n",
       "      <td>2.044541e+09</td>\n",
       "    </tr>\n",
       "    <tr>\n",
       "      <th>...</th>\n",
       "      <td>...</td>\n",
       "      <td>...</td>\n",
       "    </tr>\n",
       "    <tr>\n",
       "      <th>682</th>\n",
       "      <td>75000000.0</td>\n",
       "      <td>5.434432e+07</td>\n",
       "    </tr>\n",
       "    <tr>\n",
       "      <th>683</th>\n",
       "      <td>75000000.0</td>\n",
       "      <td>7.152327e+07</td>\n",
       "    </tr>\n",
       "    <tr>\n",
       "      <th>684</th>\n",
       "      <td>75000000.0</td>\n",
       "      <td>3.925113e+07</td>\n",
       "    </tr>\n",
       "    <tr>\n",
       "      <th>685</th>\n",
       "      <td>75000000.0</td>\n",
       "      <td>1.273614e+08</td>\n",
       "    </tr>\n",
       "    <tr>\n",
       "      <th>686</th>\n",
       "      <td>75000000.0</td>\n",
       "      <td>8.975839e+07</td>\n",
       "    </tr>\n",
       "  </tbody>\n",
       "</table>\n",
       "<p>687 rows × 2 columns</p>\n",
       "</div>"
      ],
      "text/plain": [
       "     Production_Budget_In_USD  Worldwide_Gross_In_USD\n",
       "0                 400000000.0            2.797801e+09\n",
       "1                 379000000.0            1.045714e+09\n",
       "2                 365000000.0            1.395317e+09\n",
       "3                 306000000.0            2.065478e+09\n",
       "4                 300000000.0            2.044541e+09\n",
       "..                        ...                     ...\n",
       "682                75000000.0            5.434432e+07\n",
       "683                75000000.0            7.152327e+07\n",
       "684                75000000.0            3.925113e+07\n",
       "685                75000000.0            1.273614e+08\n",
       "686                75000000.0            8.975839e+07\n",
       "\n",
       "[687 rows x 2 columns]"
      ]
     },
     "execution_count": 81,
     "metadata": {},
     "output_type": "execute_result"
    }
   ],
   "source": [
    "data = pd.read_csv('Movie_data_budget.csv') \n",
    "data"
   ]
  },
  {
   "cell_type": "markdown",
   "metadata": {},
   "source": [
    "3. Summary statistics of linear model."
   ]
  },
  {
   "cell_type": "code",
   "execution_count": 82,
   "metadata": {},
   "outputs": [
    {
     "data": {
      "text/html": [
       "<div>\n",
       "<style scoped>\n",
       "    .dataframe tbody tr th:only-of-type {\n",
       "        vertical-align: middle;\n",
       "    }\n",
       "\n",
       "    .dataframe tbody tr th {\n",
       "        vertical-align: top;\n",
       "    }\n",
       "\n",
       "    .dataframe thead th {\n",
       "        text-align: right;\n",
       "    }\n",
       "</style>\n",
       "<table border=\"1\" class=\"dataframe\">\n",
       "  <thead>\n",
       "    <tr style=\"text-align: right;\">\n",
       "      <th></th>\n",
       "      <th>Production_Budget_In_USD</th>\n",
       "      <th>Worldwide_Gross_In_USD</th>\n",
       "    </tr>\n",
       "  </thead>\n",
       "  <tbody>\n",
       "    <tr>\n",
       "      <th>count</th>\n",
       "      <td>6.870000e+02</td>\n",
       "      <td>6.870000e+02</td>\n",
       "    </tr>\n",
       "    <tr>\n",
       "      <th>mean</th>\n",
       "      <td>1.261601e+08</td>\n",
       "      <td>3.995041e+08</td>\n",
       "    </tr>\n",
       "    <tr>\n",
       "      <th>std</th>\n",
       "      <td>4.973999e+07</td>\n",
       "      <td>3.461612e+08</td>\n",
       "    </tr>\n",
       "    <tr>\n",
       "      <th>min</th>\n",
       "      <td>7.500000e+07</td>\n",
       "      <td>6.300451e+06</td>\n",
       "    </tr>\n",
       "    <tr>\n",
       "      <th>25%</th>\n",
       "      <td>8.500000e+07</td>\n",
       "      <td>1.664658e+08</td>\n",
       "    </tr>\n",
       "    <tr>\n",
       "      <th>50%</th>\n",
       "      <td>1.100000e+08</td>\n",
       "      <td>2.994618e+08</td>\n",
       "    </tr>\n",
       "    <tr>\n",
       "      <th>75%</th>\n",
       "      <td>1.500000e+08</td>\n",
       "      <td>5.285210e+08</td>\n",
       "    </tr>\n",
       "    <tr>\n",
       "      <th>max</th>\n",
       "      <td>4.000000e+08</td>\n",
       "      <td>2.801824e+09</td>\n",
       "    </tr>\n",
       "  </tbody>\n",
       "</table>\n",
       "</div>"
      ],
      "text/plain": [
       "       Production_Budget_In_USD  Worldwide_Gross_In_USD\n",
       "count              6.870000e+02            6.870000e+02\n",
       "mean               1.261601e+08            3.995041e+08\n",
       "std                4.973999e+07            3.461612e+08\n",
       "min                7.500000e+07            6.300451e+06\n",
       "25%                8.500000e+07            1.664658e+08\n",
       "50%                1.100000e+08            2.994618e+08\n",
       "75%                1.500000e+08            5.285210e+08\n",
       "max                4.000000e+08            2.801824e+09"
      ]
     },
     "execution_count": 82,
     "metadata": {},
     "output_type": "execute_result"
    }
   ],
   "source": [
    "data.describe()"
   ]
  },
  {
   "cell_type": "markdown",
   "metadata": {},
   "source": [
    "4. The variable x stands for Production budget, variable y for Worldwide gross revenue."
   ]
  },
  {
   "cell_type": "code",
   "execution_count": 83,
   "metadata": {},
   "outputs": [
    {
     "data": {
      "image/png": "[encoded data removed]",
      "text/plain": [
       "<Figure size 720x432 with 1 Axes>"
      ]
     },
     "metadata": {},
     "output_type": "display_data"
    }
   ],
   "source": [
    "x = DataFrame(data, columns = ['Production_Budget_In_USD'])\n",
    "y = DataFrame(data, columns = ['Worldwide_Gross_In_USD'])\n",
    "\n",
    "\n",
    "# ============ visualizing data points from our dataset\n",
    "\n",
    "plt.figure(figsize = (10,6)) \n",
    "plt.scatter(x, y) \n",
    "plt.title('Movie Budget vs Movie Revenue')\n",
    "plt.ylabel('Movie Revenue in USD')\n",
    "plt.xlabel('Movie Budget in USD') \n",
    "plt.show()"
   ]
  },
  {
   "cell_type": "code",
   "execution_count": 84,
   "metadata": {},
   "outputs": [
    {
     "data": {
      "text/plain": [
       "LinearRegression()"
      ]
     },
     "execution_count": 84,
     "metadata": {},
     "output_type": "execute_result"
    }
   ],
   "source": [
    "# ================ crunching data points into linear model\n",
    "\n",
    "\n",
    "regression = LinearRegression()\n",
    "\n",
    "regression.fit(x, y) "
   ]
  },
  {
   "cell_type": "code",
   "execution_count": 85,
   "metadata": {},
   "outputs": [
    {
     "name": "stdout",
     "output_type": "stream",
     "text": [
      "0.3710853540508411\n"
     ]
    }
   ],
   "source": [
    "# =============== estimating r squared of linear model with sklearn\n",
    "\n",
    "\n",
    "r2 = regression.score(x, y)\n",
    "print(r2)"
   ]
  },
  {
   "cell_type": "code",
   "execution_count": 86,
   "metadata": {},
   "outputs": [
    {
     "name": "stdout",
     "output_type": "stream",
     "text": [
      "[[4.2394511]]\n"
     ]
    }
   ],
   "source": [
    "# =============== estimating coefficeint of linear model with sklearn\n",
    "\n",
    "\n",
    "theta_1 = regression.coef_ \n",
    "print(theta_1)"
   ]
  },
  {
   "cell_type": "code",
   "execution_count": 87,
   "metadata": {},
   "outputs": [
    {
     "name": "stdout",
     "output_type": "stream",
     "text": [
      "[-1.35345506e+08]\n"
     ]
    }
   ],
   "source": [
    "# ============== estimating intercept of linear model with sklearn\n",
    "\n",
    "\n",
    "theta_0 = regression.intercept_ \n",
    "print(theta_0)"
   ]
  },
  {
   "cell_type": "markdown",
   "metadata": {},
   "source": [
    "5. Scikit-Learn's LinearRegression estimator to fit data and plotting the best-fit line."
   ]
  },
  {
   "cell_type": "code",
   "execution_count": 88,
   "metadata": {},
   "outputs": [
    {
     "data": {
      "image/png": "[encoded data removed]",
      "text/plain": [
       "<Figure size 720x432 with 1 Axes>"
      ]
     },
     "metadata": {},
     "output_type": "display_data"
    }
   ],
   "source": [
    "plt.figure(figsize = (10,6))\n",
    "plt.scatter(x, y) \n",
    "plt.plot(x, regression.predict(x))\n",
    "plt.title('Movie Budget vs Movie Revenue')\n",
    "plt.ylabel('Movie Revenue in USD')\n",
    "plt.xlabel('Movie Budget in USD')\n",
    "plt.show() "
   ]
  },
  {
   "cell_type": "markdown",
   "metadata": {},
   "source": [
    "6. Assessing the quality of our linear model with sklearn."
   ]
  },
  {
   "cell_type": "code",
   "execution_count": 89,
   "metadata": {},
   "outputs": [
    {
     "name": "stdout",
     "output_type": "stream",
     "text": [
      "MSE:7.52516260352438e+16\n",
      "RMSE:274320298.25596905\n"
     ]
    }
   ],
   "source": [
    "from sklearn.metrics import mean_squared_error\n",
    "import numpy as np\n",
    "\n",
    "\n",
    "y_pred = regression.predict(x)\n",
    "\n",
    "\n",
    "print(\"MSE:\" +str(mean_squared_error(y, y_pred)))\n",
    "print(\"RMSE:\" +str(np.sqrt(mean_squared_error(y, y_pred))))"
   ]
  },
  {
   "cell_type": "markdown",
   "metadata": {},
   "source": [
    "7. hθ(x) = θ0 + θ1x Using this formula we're predicting gross revenue for a movie with budget 50 million USD."
   ]
  },
  {
   "cell_type": "code",
   "execution_count": 90,
   "metadata": {},
   "outputs": [
    {
     "name": "stdout",
     "output_type": "stream",
     "text": [
      "[[76627048.71010825]]\n"
     ]
    }
   ],
   "source": [
    "\n",
    "movie_gross = theta_0 + (theta_1 * 50000000)\n",
    "print(movie_gross)"
   ]
  },
  {
   "cell_type": "markdown",
   "metadata": {},
   "source": [
    "8. list of sources from which i took help for linear model.\n",
    "\n",
    "https://www.youtube.com/watch?v=gofilGC-vMk&ab_channel=NormalizedNerd\n",
    "\n",
    "https://realpython.com/linear-regression-in-python/\n",
    "\n",
    "https://www.holehouse.org/mlclass/04_Linear_Regression_with_multiple_variables.html"
   ]
  },
  {
   "cell_type": "markdown",
   "metadata": {},
   "source": [
    "9. The conclusion for the linear model is that our model tells us the total variation of 37% of world movie, our model predicted that a movie budget with budget zero will get loss of -135345506.0 USD in gross revenue, Our model tells that for every dollar we spend on budget we will get 4.2394511 in return."
   ]
  },
  {
   "cell_type": "markdown",
   "metadata": {},
   "source": [
    "10. dataset source:   https://www.the-numbers.com/movie/budgets/all\n"
   ]
  },
  {
   "cell_type": "code",
   "execution_count": null,
   "metadata": {},
   "outputs": [],
   "source": []
  }
 ],
 "metadata": {
  "kernelspec": {
   "display_name": "Python 3",
   "language": "python",
   "name": "python3"
  },
  "language_info": {
   "codemirror_mode": {
    "name": "ipython",
    "version": 3
   },
   "file_extension": ".py",
   "mimetype": "text/x-python",
   "name": "python",
   "nbconvert_exporter": "python",
   "pygments_lexer": "ipython3",
   "version": "3.8.5"
  }
 },
 "nbformat": 4,
 "nbformat_minor": 4
}
